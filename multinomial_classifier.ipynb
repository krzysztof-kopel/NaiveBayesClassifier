{
 "cells": [
  {
   "metadata": {},
   "cell_type": "markdown",
   "source": "# Naiwny Klasyfikator Bayesowski - zmienne kategoryczne",
   "id": "c69fab276a28c4a6"
  },
  {
   "metadata": {},
   "cell_type": "markdown",
   "source": "Poniższy notatnik prezentuje kolejne kroki działania klasyfikatora w wersji dla zmiennych kategorycznych, na koniec oceniając jego procent poprawnych odpowiedzi (*accuracy*).",
   "id": "9beb938ae4b411cc"
  },
  {
   "metadata": {},
   "cell_type": "markdown",
   "source": "## Krok 1: Wczytanie danych do listy dwuwymiarowej.",
   "id": "756c281b5c486831"
  },
  {
   "metadata": {},
   "cell_type": "markdown",
   "source": "Pierwszym krokiem jest odczytanie danych z pliku *mushrooms.csv* i przekształcenie ich do postaci listy dwuwymiarowej.",
   "id": "15d5df7541e17f9c"
  },
  {
   "metadata": {
    "ExecuteTime": {
     "end_time": "2025-01-16T17:17:19.318791Z",
     "start_time": "2025-01-16T17:17:19.281207Z"
    }
   },
   "cell_type": "code",
   "source": [
    "from util import read_csv_file\n",
    "\n",
    "data = read_csv_file(\"data/mushrooms.csv\", True)"
   ],
   "id": "538abe1d1d624dfc",
   "outputs": [],
   "execution_count": 1
  },
  {
   "metadata": {},
   "cell_type": "markdown",
   "source": "## Krok 2: Utworzenie obiektu klasyfikatora.",
   "id": "9afd33e5b57e2629"
  },
  {
   "metadata": {},
   "cell_type": "markdown",
   "source": "Tworzymy obiekt klasy *MultinomialNaiveBayesClassifier*, który będzie służył jako nasz klasyfikator, jak również obiekty klasy *Trait*, służące do reprezentacji poszczególnych cech. Wykorzystujemy do tego funkcję *set_up*, która przyjmuje dwuwymiarową listę danych i zwraca zbudowany na ich podstawie (ale jeszcze nie wytrenowany) klasyfikator.",
   "id": "9a1d39edcff78260"
  },
  {
   "metadata": {
    "ExecuteTime": {
     "end_time": "2025-01-16T17:17:19.364855Z",
     "start_time": "2025-01-16T17:17:19.326384Z"
    }
   },
   "cell_type": "code",
   "source": [
    "from MultinomialNaiveBayesClassifier import set_up\n",
    "\n",
    "classifier = set_up(data)"
   ],
   "id": "2558869e3342e03b",
   "outputs": [],
   "execution_count": 2
  },
  {
   "metadata": {},
   "cell_type": "markdown",
   "source": "## Krok 3: Podziału zbioru danych na część treningową i testową.",
   "id": "fe88ed6c496d4ab4"
  },
  {
   "metadata": {},
   "cell_type": "markdown",
   "source": "Zbiór testowy został podzielony na część treningową (70%) i testową (30%).",
   "id": "d8078b7c4094d248"
  },
  {
   "metadata": {
    "ExecuteTime": {
     "end_time": "2025-01-16T17:21:53.329042Z",
     "start_time": "2025-01-16T17:21:53.325715Z"
    }
   },
   "cell_type": "code",
   "source": "# Tutaj będę dzielił",
   "id": "721aac4e4a628500",
   "outputs": [],
   "execution_count": 4
  },
  {
   "metadata": {},
   "cell_type": "markdown",
   "source": "## Krok 4: Trenowanie klasyfikatora.",
   "id": "69656d1d060f3042"
  },
  {
   "metadata": {},
   "cell_type": "markdown",
   "source": "Klasyfikator trenujemy, używając do tego celu metody *fit*, której przekazujemy zbiór danych (omawianą już dwuwymiarową listę, jednak bez pierwszego wiersza (nagłówków)), na którym ma zostać dokonany trening.",
   "id": "4d4feac5faa64075"
  },
  {
   "metadata": {
    "ExecuteTime": {
     "end_time": "2025-01-16T17:17:25.522689Z",
     "start_time": "2025-01-16T17:17:25.482494Z"
    }
   },
   "cell_type": "code",
   "source": "classifier.fit(data[1:])",
   "id": "d9924fbe999745a5",
   "outputs": [],
   "execution_count": 3
  },
  {
   "metadata": {},
   "cell_type": "markdown",
   "source": "## Krok 5: Wizualizacja rezultatów treningu.",
   "id": "ab0c54c0d43ba6fa"
  },
  {
   "metadata": {},
   "cell_type": "markdown",
   "source": "Poniżej można zobaczyć prawdopodobieństwa wystąpienia poszczególnych wartości cechy *gill color*, z podziałem na grzyby jadalne i niejadalne. Wartości te można porównać z wysokościami słupków na wykresie w pliku *mushroom_data_analysis.xlsm*, zawierającym analizę danych tego zbioru. Nie będzie tu jednak dokładnej korelacji, ponieważ poniższe dane zostały wygenerowane na podstawie 70% grzybów, a dane w pliku na podstawie całego zbioru.",
   "id": "246afa33d554d184"
  },
  {
   "metadata": {
    "ExecuteTime": {
     "end_time": "2025-01-16T17:38:34.915602Z",
     "start_time": "2025-01-16T17:38:34.894688Z"
    }
   },
   "cell_type": "code",
   "source": [
    "print(\"Dla grzybów jadalnych:\")\n",
    "for key, value in classifier.traits[8].probabilities['e'].items():\n",
    "    print(f'p({key}|e) = {value}')\n",
    "print(\"\\nDla grzybów trujących:\")\n",
    "for key, value in classifier.traits[8].probabilities['p'].items():\n",
    "    print(f'p({key}|p) = {value}')"
   ],
   "id": "8993427b09818888",
   "outputs": [
    {
     "name": "stdout",
     "output_type": "stream",
     "text": [
      "Dla grzybów jadalnych:\n",
      "p(g|e) = 0.05900473933649289\n",
      "p(y|e) = 0.015402843601895734\n",
      "p(o|e) = 0.015402843601895734\n",
      "p(u|e) = 0.10545023696682465\n",
      "p(k|e) = 0.08175355450236967\n",
      "p(b|e) = 0.00023696682464454977\n",
      "p(p|e) = 0.20213270142180095\n",
      "p(r|e) = 0.00023696682464454977\n",
      "p(e|e) = 0.02298578199052133\n",
      "p(h|e) = 0.0485781990521327\n",
      "p(w|e) = 0.22677725118483413\n",
      "p(n|e) = 0.22203791469194312\n",
      "\n",
      "Dla grzybów trujących:\n",
      "p(g|p) = 0.12856415478615071\n",
      "p(y|p) = 0.005855397148676171\n",
      "p(o|p) = 0.0002545824847250509\n",
      "p(u|p) = 0.012474541751527495\n",
      "p(k|p) = 0.01654786150712831\n",
      "p(b|p) = 0.440173116089613\n",
      "p(p|p) = 0.16318737270875763\n",
      "p(r|p) = 0.006364562118126273\n",
      "p(e|p) = 0.0002545824847250509\n",
      "p(h|p) = 0.13467413441955192\n",
      "p(w|p) = 0.06288187372708758\n",
      "p(n|p) = 0.028767820773930752\n"
     ]
    }
   ],
   "execution_count": 14
  },
  {
   "metadata": {},
   "cell_type": "code",
   "outputs": [],
   "execution_count": null,
   "source": "",
   "id": "fd51cec9b06558ea"
  }
 ],
 "metadata": {
  "kernelspec": {
   "display_name": "Python 3",
   "language": "python",
   "name": "python3"
  },
  "language_info": {
   "codemirror_mode": {
    "name": "ipython",
    "version": 2
   },
   "file_extension": ".py",
   "mimetype": "text/x-python",
   "name": "python",
   "nbconvert_exporter": "python",
   "pygments_lexer": "ipython2",
   "version": "2.7.6"
  }
 },
 "nbformat": 4,
 "nbformat_minor": 5
}
