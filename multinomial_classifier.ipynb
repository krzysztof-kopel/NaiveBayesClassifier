{
 "cells": [
  {
   "metadata": {},
   "cell_type": "markdown",
   "source": "# Naiwny Klasyfikator Bayesowski - zmienne kategoryczne",
   "id": "c69fab276a28c4a6"
  },
  {
   "metadata": {},
   "cell_type": "markdown",
   "source": "Poniższy notatnik prezentuje kolejne kroki działania klasyfikatora w wersji dla zmiennych kategorycznych, na koniec oceniając jego procent poprawnych odpowiedzi (*accuracy*).",
   "id": "9beb938ae4b411cc"
  },
  {
   "metadata": {},
   "cell_type": "markdown",
   "source": "## Krok 1: Wczytanie danych do listy dwuwymiarowej.",
   "id": "756c281b5c486831"
  },
  {
   "metadata": {},
   "cell_type": "markdown",
   "source": "Pierwszym krokiem jest odczytanie danych z pliku *mushrooms.csv* i przekształcenie ich do postaci listy dwuwymiarowej.",
   "id": "15d5df7541e17f9c"
  },
  {
   "metadata": {
    "ExecuteTime": {
     "end_time": "2025-01-17T14:51:54.607664Z",
     "start_time": "2025-01-17T14:51:54.593937Z"
    }
   },
   "cell_type": "code",
   "source": [
    "from util import read_csv_file\n",
    "\n",
    "data = read_csv_file(\"data/mushrooms.csv\", True)"
   ],
   "id": "538abe1d1d624dfc",
   "outputs": [],
   "execution_count": 1
  },
  {
   "metadata": {},
   "cell_type": "markdown",
   "source": "## Krok 2: Utworzenie obiektu klasyfikatora.",
   "id": "9afd33e5b57e2629"
  },
  {
   "metadata": {},
   "cell_type": "markdown",
   "source": "Tworzymy obiekt klasy *MultinomialNaiveBayesClassifier*, który będzie służył jako nasz klasyfikator, jak również obiekty klasy *Trait*, służące do reprezentacji poszczególnych cech. Wykorzystujemy do tego funkcję *set_up*, która przyjmuje dwuwymiarową listę danych i zwraca zbudowany na ich podstawie (ale jeszcze nie wytrenowany) klasyfikator.",
   "id": "9a1d39edcff78260"
  },
  {
   "metadata": {
    "ExecuteTime": {
     "end_time": "2025-01-17T14:51:54.631706Z",
     "start_time": "2025-01-17T14:51:54.612880Z"
    }
   },
   "cell_type": "code",
   "source": [
    "from MultinomialNaiveBayesClassifier import set_up\n",
    "\n",
    "classifier = set_up(data)"
   ],
   "id": "2558869e3342e03b",
   "outputs": [],
   "execution_count": 2
  },
  {
   "metadata": {},
   "cell_type": "markdown",
   "source": "## Krok 3: Podziału zbioru danych na część treningową i testową.",
   "id": "fe88ed6c496d4ab4"
  },
  {
   "metadata": {},
   "cell_type": "markdown",
   "source": "Zbiór testowy został podzielony na część treningową (70%) i testową (30%).",
   "id": "d8078b7c4094d248"
  },
  {
   "metadata": {
    "ExecuteTime": {
     "end_time": "2025-01-17T14:51:55.573151Z",
     "start_time": "2025-01-17T14:51:54.708272Z"
    }
   },
   "cell_type": "code",
   "source": [
    "from sklearn.model_selection import train_test_split\n",
    "\n",
    "data = data[1:]\n",
    "training_data, test_data = train_test_split(data, train_size=0.7, test_size=0.3, random_state=1)\n",
    "print(f'Rozmiar części treningowej: {len(training_data)}\\nRozmiar części testowej: {len(test_data)}')"
   ],
   "id": "721aac4e4a628500",
   "outputs": [
    {
     "name": "stdout",
     "output_type": "stream",
     "text": [
      "Rozmiar części treningowej: 5686\n",
      "Rozmiar części testowej: 2438\n"
     ]
    }
   ],
   "execution_count": 3
  },
  {
   "metadata": {},
   "cell_type": "markdown",
   "source": "## Krok 4: Trenowanie klasyfikatora.",
   "id": "69656d1d060f3042"
  },
  {
   "metadata": {},
   "cell_type": "markdown",
   "source": "Klasyfikator trenujemy, używając do tego celu metody *fit*, której przekazujemy zbiór danych (omawianą już dwuwymiarową listę, jednak bez pierwszego wiersza (nagłówków)), na którym ma zostać dokonany trening.",
   "id": "4d4feac5faa64075"
  },
  {
   "metadata": {
    "ExecuteTime": {
     "end_time": "2025-01-17T14:51:55.607555Z",
     "start_time": "2025-01-17T14:51:55.586033Z"
    }
   },
   "cell_type": "code",
   "source": "classifier.fit(training_data)",
   "id": "d9924fbe999745a5",
   "outputs": [],
   "execution_count": 4
  },
  {
   "metadata": {},
   "cell_type": "markdown",
   "source": "## Krok 5: Wizualizacja rezultatów treningu.",
   "id": "ab0c54c0d43ba6fa"
  },
  {
   "metadata": {},
   "cell_type": "markdown",
   "source": "Poniżej można zobaczyć prawdopodobieństwa wystąpienia poszczególnych wartości cechy *gill color*, z podziałem na grzyby jadalne i niejadalne. Wartości te można porównać z wysokościami słupków na wykresie w pliku *mushroom_data_analysis.xlsm*, zawierającym analizę danych tego zbioru. Nie będzie tu jednak dokładnej korelacji, ponieważ poniższe dane zostały wygenerowane na podstawie 70% grzybów, a dane w pliku na podstawie całego zbioru.",
   "id": "246afa33d554d184"
  },
  {
   "metadata": {
    "ExecuteTime": {
     "end_time": "2025-01-17T14:51:55.625309Z",
     "start_time": "2025-01-17T14:51:55.618265Z"
    }
   },
   "cell_type": "code",
   "source": [
    "print(\"Dla grzybów jadalnych:\")\n",
    "for key, value in classifier.traits[8].probabilities['e'].items():\n",
    "    print(f'p({key}|e) = {value}')\n",
    "print(\"\\nDla grzybów trujących:\")\n",
    "for key, value in classifier.traits[8].probabilities['p'].items():\n",
    "    print(f'p({key}|p) = {value}')"
   ],
   "id": "8993427b09818888",
   "outputs": [
    {
     "name": "stdout",
     "output_type": "stream",
     "text": [
      "Dla grzybów jadalnych:\n",
      "p(n|e) = 0.22553619302949063\n",
      "p(u|e) = 0.10857908847184987\n",
      "p(r|e) = 0.0003351206434316354\n",
      "p(y|e) = 0.015750670241286863\n",
      "p(w|e) = 0.22319034852546918\n",
      "p(h|e) = 0.04758713136729222\n",
      "p(e|e) = 0.024128686327077747\n",
      "p(b|e) = 0.0003351206434316354\n",
      "p(p|e) = 0.19839142091152814\n",
      "p(o|e) = 0.013739946380697051\n",
      "p(g|e) = 0.057640750670241284\n",
      "p(k|e) = 0.08478552278820375\n",
      "\n",
      "Dla grzybów trujących:\n",
      "p(n|p) = 0.028980190755685985\n",
      "p(u|p) = 0.012472487160674981\n",
      "p(r|p) = 0.006969919295671314\n",
      "p(y|p) = 0.006603081438004402\n",
      "p(w|p) = 0.06272927366104182\n",
      "p(h|p) = 0.13279530447542187\n",
      "p(e|p) = 0.00036683785766691124\n",
      "p(b|p) = 0.43800440205429203\n",
      "p(p|p) = 0.16287600880410857\n",
      "p(o|p) = 0.00036683785766691124\n",
      "p(g|p) = 0.12986060161408658\n",
      "p(k|p) = 0.01797505502567865\n"
     ]
    }
   ],
   "execution_count": 5
  },
  {
   "metadata": {},
   "cell_type": "markdown",
   "source": "# Krok 6: Obliczanie współczynnika *accuracy* dla danych testowych.",
   "id": "345f7cca3202fd57"
  },
  {
   "metadata": {
    "ExecuteTime": {
     "end_time": "2025-01-17T14:51:55.729463Z",
     "start_time": "2025-01-17T14:51:55.710484Z"
    }
   },
   "cell_type": "code",
   "source": [
    "number_of_mushrooms = len(test_data)\n",
    "accuracy = 0\n",
    "for data_vector in test_data:\n",
    "    if data_vector[0] == classifier.predict(data_vector[1:]):\n",
    "        accuracy += 1\n",
    "print(f'Accuracy: {accuracy / number_of_mushrooms}')"
   ],
   "id": "fb264fbe5cb70dd7",
   "outputs": [
    {
     "name": "stdout",
     "output_type": "stream",
     "text": [
      "Accuracy: 0.9540607054963085\n"
     ]
    }
   ],
   "execution_count": 6
  },
  {
   "metadata": {},
   "cell_type": "markdown",
   "source": "Accuracy wyniosło około 95%. Oceniamy ten wynik jako dość dobry, jednak oczywiście istnieją możliwości jego poprawy, np. poprzez wykorzystanie klasyfikatora, który brałby pod uwagę związki między cechami (czyli nie byłby 'naiwny') lub poprzez wykluczenie niektórych cech w procesie uczenia modelu.",
   "id": "e6596cc3b8bc5556"
  }
 ],
 "metadata": {
  "kernelspec": {
   "display_name": "Python 3",
   "language": "python",
   "name": "python3"
  },
  "language_info": {
   "codemirror_mode": {
    "name": "ipython",
    "version": 2
   },
   "file_extension": ".py",
   "mimetype": "text/x-python",
   "name": "python",
   "nbconvert_exporter": "python",
   "pygments_lexer": "ipython2",
   "version": "2.7.6"
  }
 },
 "nbformat": 4,
 "nbformat_minor": 5
}
